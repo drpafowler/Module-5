{
 "cells": [
  {
   "cell_type": "code",
   "execution_count": 17,
   "metadata": {},
   "outputs": [
    {
     "name": "stdout",
     "output_type": "stream",
     "text": [
      "  Marital Status   Length of Work (months) Support Level  Education (years)  \\\n",
      "0          Single                        4           NaN                  9   \n",
      "1          Single                        4           NaN                  9   \n",
      "2          Single                       14        Direct                 11   \n",
      "3          Single                       10        Direct                  9   \n",
      "4          Single                       12           NaN                 12   \n",
      "\n",
      "   Age  Self Esteem  \n",
      "0   52            2  \n",
      "1   52            2  \n",
      "2   40            3  \n",
      "3   46            3  \n",
      "4   40            3  \n"
     ]
    }
   ],
   "source": [
    "import pandas as pd\n",
    "from scipy.stats import f_oneway\n",
    "from scipy.stats import chi2_contingency\n",
    "\n",
    "\n",
    "# Load the data from the CSV file\n",
    "df = pd.read_csv('FowlerModule05-2.csv')\n",
    "\n",
    "print(df.head())"
   ]
  },
  {
   "cell_type": "code",
   "execution_count": 18,
   "metadata": {},
   "outputs": [
    {
     "name": "stdout",
     "output_type": "stream",
     "text": [
      "  Marital Status   Length of Work (months) Support Level  Education (years)  \\\n",
      "0          Single                        4          None                  9   \n",
      "1          Single                        4          None                  9   \n",
      "2          Single                       14        Direct                 11   \n",
      "3          Single                       10        Direct                  9   \n",
      "4          Single                       12          None                 12   \n",
      "\n",
      "   Age  Self Esteem  \n",
      "0   52            2  \n",
      "1   52            2  \n",
      "2   40            3  \n",
      "3   46            3  \n",
      "4   40            3  \n"
     ]
    },
    {
     "name": "stderr",
     "output_type": "stream",
     "text": [
      "/tmp/ipykernel_524745/3749914822.py:1: FutureWarning: A value is trying to be set on a copy of a DataFrame or Series through chained assignment using an inplace method.\n",
      "The behavior will change in pandas 3.0. This inplace method will never work because the intermediate object on which we are setting values always behaves as a copy.\n",
      "\n",
      "For example, when doing 'df[col].method(value, inplace=True)', try using 'df.method({col: value}, inplace=True)' or df[col] = df[col].method(value) instead, to perform the operation inplace on the original object.\n",
      "\n",
      "\n",
      "  df['Support Level'].fillna('None', inplace=True)\n"
     ]
    }
   ],
   "source": [
    "df['Support Level'].fillna('None', inplace=True)\n",
    "print(df.head())"
   ]
  },
  {
   "cell_type": "code",
   "execution_count": 22,
   "metadata": {},
   "outputs": [
    {
     "name": "stdout",
     "output_type": "stream",
     "text": [
      "[2 2 3 3 3 3 3 3 4 4 4 4 4 4 4 5 5 5 5 5 5 6 6]\n",
      "[3 3 3 4 5 5 5 6]\n",
      "[3 3 3 3 3 3 3 3 3 4 4 4 4 5 6]\n",
      "[3 3 3 3 3 3 3 3 3 3 4 4 4 5]\n",
      "Sum of Squares Between Groups: 5.869047619047618\n",
      "Sum of Squares Within Groups: 54.31428571428572\n",
      "F-Statistic: 2.0170670407387927\n",
      "P-Value: 0.12193938980853504\n",
      "Fail to reject the null hypothesis. Self-esteem is the same for all marital status levels.\n"
     ]
    }
   ],
   "source": [
    "# Strip any leading or trailing spaces from the column names\n",
    "df.columns = df.columns.str.strip()\n",
    "\n",
    "# Perform ANOVA\n",
    "single_scores = df['Self Esteem'][df['Marital Status'] == 'Single'].values\n",
    "married_scores = df['Self Esteem'][df['Marital Status'] == 'Married'].values\n",
    "separated_scores = df['Self Esteem'][df['Marital Status'] == 'Separated'].values\n",
    "divorced_scores = df['Self Esteem'][df['Marital Status'] == 'Divorced'].values\n",
    "\n",
    "f_statistic, p_value = f_oneway(single_scores, married_scores, separated_scores, divorced_scores)\n",
    "\n",
    "# Calculate the sum of squares between groups\n",
    "ss_between = sum(len(group) * (group.mean() - df['Self Esteem'].mean())**2 for group in [single_scores, married_scores, separated_scores, divorced_scores])\n",
    "\n",
    "# Calculate the sum of squares within groups\n",
    "ss_within = sum(((group - group.mean())**2).sum() for group in [single_scores, married_scores, separated_scores, divorced_scores])\n",
    "\n",
    "# Print the results\n",
    "print(single_scores)\n",
    "print(married_scores)\n",
    "print(separated_scores)\n",
    "print(divorced_scores)\n",
    "print(\"Sum of Squares Between Groups:\", ss_between)\n",
    "print(\"Sum of Squares Within Groups:\", ss_within)\n",
    "print(\"F-Statistic:\", f_statistic)\n",
    "print(\"P-Value:\", p_value)\n",
    "\n",
    "# Compare p-value to significance level\n",
    "alpha = 0.05\n",
    "if p_value < alpha:\n",
    "    print(\"Reject the null hypothesis. Self-esteem is not the same for all marital status levels.\")\n",
    "else:\n",
    "    print(\"Fail to reject the null hypothesis. Self-esteem is the same for all marital status levels.\")"
   ]
  },
  {
   "cell_type": "code",
   "execution_count": 20,
   "metadata": {},
   "outputs": [
    {
     "name": "stdout",
     "output_type": "stream",
     "text": [
      "Support Level   Direct  None\n",
      "Marital Status              \n",
      "Divorced             2    12\n",
      "Married              5     3\n",
      "Separated            7     8\n",
      "Single              16     7\n",
      "Chi-square statistic: 11.231262939958594\n",
      "P-value: 0.010538875055530628\n",
      "Degrees of freedom: 3\n",
      "Expected frequencies: [[ 7.   7. ]\n",
      " [ 4.   4. ]\n",
      " [ 7.5  7.5]\n",
      " [11.5 11.5]]\n",
      "Marital status and support level are dependent (reject H0)\n"
     ]
    }
   ],
   "source": [
    "# Strip any leading or trailing spaces from the column names\n",
    "df.columns = df.columns.str.strip()\n",
    "\n",
    "# Create a contingency table of marital status and support level\n",
    "contingency_table = pd.crosstab(df['Marital Status'], df['Support Level'])\n",
    "\n",
    "# Perform the chi-square test\n",
    "chi2, p_value, dof, expected = chi2_contingency(contingency_table)\n",
    "\n",
    "# Print the results\n",
    "print(contingency_table)\n",
    "print(\"Chi-square statistic:\", chi2)\n",
    "print(\"P-value:\", p_value)\n",
    "print(\"Degrees of freedom:\", dof)\n",
    "print(\"Expected frequencies:\", expected)\n",
    "\n",
    "# Check if the result is statistically significant\n",
    "alpha = 0.05\n",
    "if p_value < alpha:\n",
    "    print(\"Marital status and support level are dependent (reject H0)\")\n",
    "else:\n",
    "    print(\"Marital status and support level are independent (fail to reject H0)\")"
   ]
  }
 ],
 "metadata": {
  "kernelspec": {
   "display_name": ".venv",
   "language": "python",
   "name": "python3"
  },
  "language_info": {
   "codemirror_mode": {
    "name": "ipython",
    "version": 3
   },
   "file_extension": ".py",
   "mimetype": "text/x-python",
   "name": "python",
   "nbconvert_exporter": "python",
   "pygments_lexer": "ipython3",
   "version": "3.12.3"
  }
 },
 "nbformat": 4,
 "nbformat_minor": 2
}
