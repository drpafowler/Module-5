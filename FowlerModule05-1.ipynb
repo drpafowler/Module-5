{
 "cells": [
  {
   "cell_type": "code",
   "execution_count": 43,
   "metadata": {},
   "outputs": [
    {
     "name": "stdout",
     "output_type": "stream",
     "text": [
      "  Vehicle Driven      Type Satisfaction with vehicle Gender  Age  \\\n",
      "0          Truck  Domestic                       Yes   Male   31   \n",
      "1          Truck  Domestic                       Yes   Male   29   \n",
      "2          Truck   Foreign                        No   Male   26   \n",
      "3          Truck  Domestic                        No   Male   18   \n",
      "4            SUV  Domestic                       Yes   Male   49   \n",
      "\n",
      "   # of hours per week in vehicle  Miles driven per week  Number of Children   \\\n",
      "0                              10                    450                    0   \n",
      "1                               5                    370                    1   \n",
      "2                              12                    580                    0   \n",
      "3                               6                    300                    0   \n",
      "4                              21                   1000                    0   \n",
      "\n",
      "   Average number of riders  Miles from work  \n",
      "0                         1               30  \n",
      "1                         1               22  \n",
      "2                         1               15  \n",
      "3                         1               20  \n",
      "4                         1               22  \n"
     ]
    }
   ],
   "source": [
    "import numpy as np\n",
    "import pandas as pd\n",
    "from scipy.stats import ttest_1samp, binomtest, norm \n",
    "import matplotlib.pyplot as plt\n",
    "\n",
    "df=pd.read_csv('FowlerModule05-1.csv')\n",
    "\n",
    "print(df.head())"
   ]
  },
  {
   "cell_type": "code",
   "execution_count": 36,
   "metadata": {},
   "outputs": [
    {
     "name": "stdout",
     "output_type": "stream",
     "text": [
      "Index(['Vehicle Driven', 'Type', 'Satisfaction with vehicle', 'Gender', 'Age',\n",
      "       '# of hours per week in vehicle', 'Miles driven per week',\n",
      "       'Number of Children ', 'Average number of riders', 'Miles from work'],\n",
      "      dtype='object')\n"
     ]
    }
   ],
   "source": [
    "print(df.columns)"
   ]
  },
  {
   "cell_type": "code",
   "execution_count": 37,
   "metadata": {},
   "outputs": [
    {
     "name": "stdout",
     "output_type": "stream",
     "text": [
      "Average time spent in vehicles: 8.16\n",
      "Average mileage driven per week: 502.1\n",
      "Average age of SUV drivers: 39.333333333333336\n",
      "Percentage of people satisfied with their vehicles: 70.0\n"
     ]
    }
   ],
   "source": [
    "average_time_in_vehicle = df['# of hours per week in vehicle'].mean()\n",
    "print(\"Average time spent in vehicles:\", average_time_in_vehicle)\n",
    "\n",
    "average_mileage_per_week = df['Miles driven per week'].mean()\n",
    "print(\"Average mileage driven per week:\", average_mileage_per_week)\n",
    "\n",
    "average_age_suv_drivers = suv_drivers_age.mean()\n",
    "print(\"Average age of SUV drivers:\", average_age_suv_drivers)\n",
    "\n",
    "percentage_satisfied = (num_satisfied / total_respondents) * 100\n",
    "print(\"Percentage of people satisfied with their vehicles:\", percentage_satisfied)"
   ]
  },
  {
   "cell_type": "code",
   "execution_count": 38,
   "metadata": {},
   "outputs": [
    {
     "name": "stdout",
     "output_type": "stream",
     "text": [
      "Time in Vehicle T-statistic: -2.51947234724542\n",
      "Time in Vehicle P-value: 0.015063841596443021\n",
      "Reject H0: Individuals spend less than 10 hours per week in their vehicles.\n"
     ]
    }
   ],
   "source": [
    "# --- Hypothesis Test 1: Time Spent in Vehicles ---\n",
    "# H0: µ ≥ 10\n",
    "# H1: µ < 10 (left-tailed test)\n",
    "alpha = 0.05\n",
    "\n",
    "t_stat, p_value = ttest_1samp(df['# of hours per week in vehicle'], 10)\n",
    "print(\"Time in Vehicle T-statistic:\", t_stat)\n",
    "print(\"Time in Vehicle P-value:\", p_value)\n",
    "\n",
    "if p_value/2 < alpha:  # Divide p_value by 2 for a one-tailed test\n",
    "    print(\"Reject H0: Individuals spend less than 10 hours per week in their vehicles.\")\n",
    "else:\n",
    "    print(\"Fail to reject H0: Not enough evidence to say individuals spend less than 10 hours per week in their vehicles.\")\n"
   ]
  },
  {
   "cell_type": "code",
   "execution_count": 39,
   "metadata": {},
   "outputs": [
    {
     "name": "stdout",
     "output_type": "stream",
     "text": [
      "\n",
      "Miles Driven T-statistic: 1.2609410094679987\n",
      "Miles Driven P-value: 0.2133009773574302\n",
      "Fail to reject H0:  Individuals drive an average of 450 miles per week.\n"
     ]
    }
   ],
   "source": [
    "# --- Hypothesis Test 2: Miles Driven per Week ---\n",
    "# H0: µ = 450\n",
    "# H1: µ ≠ 450 (two-tailed test)\n",
    "alpha = 0.05\n",
    "\n",
    "t_stat, p_value = ttest_1samp(df['Miles driven per week'], 450)\n",
    "print(\"\\nMiles Driven T-statistic:\", t_stat)\n",
    "print(\"Miles Driven P-value:\", p_value)\n",
    "\n",
    "if p_value < alpha:  # No need to divide for a two-tailed test\n",
    "    print(\"Reject H0: Individuals do not drive an average of 450 miles per week.\")\n",
    "else:\n",
    "    print(\"Fail to reject H0:  Individuals drive an average of 450 miles per week.\")\n"
   ]
  },
  {
   "cell_type": "code",
   "execution_count": 40,
   "metadata": {},
   "outputs": [
    {
     "name": "stdout",
     "output_type": "stream",
     "text": [
      "\n",
      "SUV Drivers Age T-statistic: 2.2210983164738285\n",
      "SUV Drivers Age P-value: 0.043349319430440215\n",
      "Reject H0: The average age of SUV drivers is greater than 35.\n"
     ]
    }
   ],
   "source": [
    "# --- Hypothesis Test 3: Average Age of SUV Drivers ---\n",
    "# H0: µ ≤ 35\n",
    "# H1: µ > 35 (right-tailed test)\n",
    "alpha = 0.05\n",
    "\n",
    "suv_drivers_age = df[df['Vehicle Driven'] == 'SUV']['Age']\n",
    "t_stat, p_value = ttest_1samp(suv_drivers_age, 35)\n",
    "print(\"\\nSUV Drivers Age T-statistic:\", t_stat)\n",
    "print(\"SUV Drivers Age P-value:\", p_value)\n",
    "\n",
    "if p_value/2 < alpha:  # Divide p_value by 2 for a one-tailed test\n",
    "    print(\"Reject H0: The average age of SUV drivers is greater than 35.\")\n",
    "else:\n",
    "    print(\"Fail to reject H0: The average age of SUV drivers is not greater than 35.\")\n"
   ]
  },
  {
   "cell_type": "code",
   "execution_count": 41,
   "metadata": {},
   "outputs": [
    {
     "name": "stdout",
     "output_type": "stream",
     "text": [
      "\n",
      "Satisfaction P-value: 0.2519188554772399\n",
      "Fail to reject H0: At least 75% of individuals are satisfied with their vehicles.\n"
     ]
    }
   ],
   "source": [
    "# --- Hypothesis Test 4: Satisfaction with Vehicles ---\n",
    "# H0: p ≥ 0.75\n",
    "# H1: p < 0.75 (left-tailed test)\n",
    "alpha = 0.05\n",
    "\n",
    "num_satisfied = df['Satisfaction with vehicle'].value_counts()['Yes']\n",
    "total_respondents = len(df)\n",
    "p_value = binomtest(num_satisfied, total_respondents, p=0.75, alternative='less').pvalue\n",
    "print(\"\\nSatisfaction P-value:\", p_value)\n",
    "\n",
    "if p_value < alpha:\n",
    "    print(\"Reject H0: Less than 75% of individuals are satisfied with their vehicles.\")\n",
    "else:\n",
    "    print(\"Fail to reject H0: At least 75% of individuals are satisfied with their vehicles.\")"
   ]
  }
 ],
 "metadata": {
  "kernelspec": {
   "display_name": ".venv",
   "language": "python",
   "name": "python3"
  },
  "language_info": {
   "codemirror_mode": {
    "name": "ipython",
    "version": 3
   },
   "file_extension": ".py",
   "mimetype": "text/x-python",
   "name": "python",
   "nbconvert_exporter": "python",
   "pygments_lexer": "ipython3",
   "version": "3.12.3"
  }
 },
 "nbformat": 4,
 "nbformat_minor": 2
}
